{
 "cells": [
  {
   "cell_type": "markdown",
   "id": "2da0fc95-e4ff-4bf1-83d1-a6760762afbd",
   "metadata": {},
   "source": [
    "Stats Assignment 2\n"
   ]
  },
  {
   "cell_type": "raw",
   "id": "4c058077-7c2b-4dc7-8500-0b9f18a0dd4e",
   "metadata": {},
   "source": [
    "Q1. What are the three measures of central tendency?"
   ]
  },
  {
   "cell_type": "raw",
   "id": "46ec598a-db8d-4459-a1e5-59815a58c110",
   "metadata": {},
   "source": [
    "Ans :The three measures of central tendency are:\n",
    "\n",
    "Mean: The average of a set of numbers, calculated by adding them all together and dividing by the number of values.\n",
    "\n",
    "Median: The middle value in a set of numbers when they are arranged in order. If there is an even number of values, the median is the average of the two middle numbers.\n",
    "\n",
    "Mode: The value that appears most frequently in a set of numbers. A set of numbers may have one mode, more than one mode, or no mode at all if no number repeats."
   ]
  },
  {
   "cell_type": "raw",
   "id": "deaaabc1-0a52-411a-a0cc-36b8e669c4a9",
   "metadata": {},
   "source": [
    "Q2. What is the difference between the mean, median, and mode? How are they used to measure the\n",
    "central tendency of a dataset?"
   ]
  },
  {
   "cell_type": "raw",
   "id": "4d6a740c-9ddf-4bea-b69b-ea52cd32a3b6",
   "metadata": {},
   "source": [
    "The mean, median, and mode are all measures of central tendency that summarize a dataset by identifying a central point around which the data are distributed. Here are the differences and how they are used:\n",
    "\n",
    "Mean:\n",
    "\n",
    "Calculation: The mean is calculated by summing all the values in a dataset and then dividing by the number of values.\n",
    "Use: The mean is useful when the dataset does not have outliers or skewed data, as it considers all data points. It provides a balanced measure but can be affected by extremely high or low values.\n",
    "Example: For the dataset \n",
    "[3,5,7,9], the mean is \n",
    "(3+5+7+9)/4=6.\n",
    "\n",
    "Median:\n",
    "\n",
    "Calculation: The median is the middle value when the data points are arranged in ascending or descending order. If the number of data points is even, the median is the average of the two middle numbers.\n",
    "Use: The median is useful in skewed datasets or when there are outliers, as it is not affected by extreme values. It gives the central value of the dataset.\n",
    "Example: For the dataset \n",
    "\n",
    "[3,5,7,9], the median is \n",
    "\n",
    "(5+7)/2=6.\n",
    "For the dataset \n",
    "\n",
    "[3,5,7], the median is 5\n",
    "\n",
    "\n",
    "Mode:\n",
    "\n",
    "Calculation: The mode is the value that appears most frequently in a dataset. A dataset can have one mode, more than one mode, or no mode at all.\n",
    "Use: The mode is useful for categorical data where we wish to know the most common category or value. It is the only measure of central tendency that can be used with nominal data.\n",
    "Example: For the dataset \n",
    "\n",
    "[3,5,7,7,9], the mode is 7\n",
    "For the dataset \n",
    "\n",
    "[3,5,7,9], there is no mode as no number repeats."
   ]
  },
  {
   "cell_type": "raw",
   "id": "a39b1b1f-3b8d-4cd5-bbc0-4289abab73f5",
   "metadata": {},
   "source": [
    "Q3. Measure the three measures of central tendency for the given height data:\n",
    "\n",
    " [178,177,176,177,178.2,178,175,179,180,175,178.9,176.2,177,172.5,178,176.5]"
   ]
  },
  {
   "cell_type": "code",
   "execution_count": 4,
   "id": "b58006d0-1cd8-4af6-9018-1eefd87c1013",
   "metadata": {},
   "outputs": [
    {
     "name": "stdout",
     "output_type": "stream",
     "text": [
      "177.01875\n",
      "177.0\n",
      "ModeResult(mode=array([177.]), count=array([3]))\n"
     ]
    },
    {
     "name": "stderr",
     "output_type": "stream",
     "text": [
      "/tmp/ipykernel_897/125354094.py:9: FutureWarning: Unlike other reduction functions (e.g. `skew`, `kurtosis`), the default behavior of `mode` typically preserves the axis it acts along. In SciPy 1.11.0, this behavior will change: the default value of `keepdims` will become False, the `axis` over which the statistic is taken will be eliminated, and the value None will no longer be accepted. Set `keepdims` to True or False to avoid this warning.\n",
      "  mode = stats.mode(height)\n"
     ]
    }
   ],
   "source": [
    "height = [178,177,176,177,178.2,178,175,179,180,175,178.9,176.2,177,172.5,178,176.5]\n",
    "import numpy as np\n",
    "mean = np.mean(height)\n",
    "median = np.median(height)\n",
    "print(mean)\n",
    "print(median)\n",
    "\n",
    "from scipy import stats\n",
    "mode = stats.mode(height)\n",
    "print(mode)\n",
    "\n"
   ]
  },
  {
   "cell_type": "raw",
   "id": "277837e3-9d25-436c-b871-a08bb70b369a",
   "metadata": {},
   "source": [
    "Q4. Find the standard deviation for the given data:\n",
    "\n",
    "[178,177,176,177,178.2,178,175,179,180,175,178.9,176.2,177,172.5,178,176.5]"
   ]
  },
  {
   "cell_type": "code",
   "execution_count": 5,
   "id": "75b96864-f67a-4f1b-a82e-59873bcb9ae6",
   "metadata": {},
   "outputs": [
    {
     "name": "stdout",
     "output_type": "stream",
     "text": [
      "1.7885814036548633\n"
     ]
    }
   ],
   "source": [
    "data = [178,177,176,177,178.2,178,175,179,180,175,178.9,176.2,177,172.5,178,176.5]\n",
    "import numpy as np\n",
    "sd = np.std(data)\n",
    "print(sd)"
   ]
  },
  {
   "cell_type": "raw",
   "id": "cd2aea1c-406e-46b7-937c-96d42f794021",
   "metadata": {},
   "source": [
    "Q5. How are measures of dispersion such as range, variance, and standard deviation used to describe\n",
    "the spread of a dataset? Provide an example."
   ]
  },
  {
   "cell_type": "raw",
   "id": "cae72602-71b6-4e7f-8aa3-1b1337a34966",
   "metadata": {},
   "source": [
    "Measures of dispersion, such as range, variance, and standard deviation, are used to describe the spread or variability of a dataset. They provide insights into how much the data points differ from each other and from the central tendency (mean, median, mode). Here's a brief overview and an example:\n",
    "\n",
    "Range:\n",
    "\n",
    "Definition: The range is the difference between the highest and lowest values in a dataset.\n",
    "Use: It gives a quick sense of the overall spread of the data but is highly sensitive to outliers.\n",
    "Example: For the dataset \n",
    "[2,4,6,8,10], the range is \n",
    "10−2=8.\n",
    "\n",
    "Variance:\n",
    "\n",
    "Definition: Variance measures the average squared deviation of each data point from the mean. It gives a sense of how much the data points vary around the mean.\n",
    "Use: Variance provides a more detailed measure of spread than the range but can be harder to interpret due to the squaring of deviations.\n",
    "Example: For the dataset \n",
    "\n",
    "[2,4,6,8,10]:\n",
    "Mean (μ) = 6\n",
    "Variance (𝜎)^2 = (2-6)^2 + (4-6)^2 + (6-6)^2 + (8-6)^2 + (10-6)^2/5 = 8\n",
    "\n",
    "\n",
    "Standard Deviation:\n",
    "\n",
    "Definition: Standard deviation is the square root of the variance. It measures the average deviation of each data point from the mean.\n",
    "Use: Standard deviation is in the same units as the data, making it easier to interpret. It provides a comprehensive measure of spread and is widely used in statistical analysis.\n",
    "Example: For the dataset \n",
    "[2,4,6,8,10]:\n",
    "Standard deviation (σ) = root(8)≈2.83\n",
    " ≈2.83"
   ]
  },
  {
   "cell_type": "raw",
   "id": "53225625-74de-4dc7-aa5e-94ece69a12ef",
   "metadata": {},
   "source": [
    "Q6. What is a Venn diagram?"
   ]
  },
  {
   "cell_type": "raw",
   "id": "c2bcbe24-52dc-42eb-a354-9c7978e97303",
   "metadata": {},
   "source": [
    "A Venn diagram is a visual tool used to illustrate the relationships between different sets. It consists of overlapping circles, with each circle representing a set. The overlaps between the circles show the common elements shared between the sets, while the non-overlapping parts of the circles represent elements unique to each set.\n",
    "\n",
    "Key Features of a Venn Diagram:\n",
    "Circles Representing Sets: Each circle in the diagram represents a set.\n",
    "Overlapping Areas: The areas where the circles overlap represent the intersection of the sets, i.e., the elements that are common to those sets.\n",
    "Non-overlapping Areas: The parts of the circles that do not overlap with others represent the unique elements in each set.\n",
    "Universal Set: Sometimes, a rectangle or a larger circle is used to represent the universal set, which contains all possible elements under consideration.\n",
    "Uses of Venn Diagrams:\n",
    "Set Theory: To illustrate the relationships between different sets, such as intersections, unions, and differences.\n",
    "Logic and Probability: To solve problems involving logical relationships and probabilities.\n",
    "Data Analysis: To compare and contrast different groups or categories.\n",
    "Education: To teach concepts of sets and their relationships in mathematics and logic."
   ]
  },
  {
   "cell_type": "raw",
   "id": "34d52c33-6dce-4fb9-b169-6220eddd9c7e",
   "metadata": {},
   "source": [
    "Q7. For the two given sets A = (2,3,4,5,6,7) & B = (0,2,6,8,10). Find:\n",
    "\n",
    "(i) \tA intersection B\n",
    "Ans : 2,6\n",
    "\n",
    "(ii)\tA ⋃ B\n",
    "Ans : 0,2,3,4,5,6,7,8,10"
   ]
  },
  {
   "cell_type": "raw",
   "id": "07955be9-51b4-41d9-add1-4500d16e8003",
   "metadata": {},
   "source": [
    "Q8. What do you understand about skewness in data?"
   ]
  },
  {
   "cell_type": "raw",
   "id": "80f54aa2-d51d-4357-a1bd-c7ccefc8ddf2",
   "metadata": {},
   "source": [
    "Ans :Skewness is a measure of the asymmetry of the distribution of values in a dataset. It indicates whether the data points are more concentrated on one side of the mean than the other. Skewness can be positive, negative, or zero, and it provides insights into the shape and nature of the distribution.\n",
    "\n",
    "Types of Skewness:\n",
    "Positive Skewness (Right Skewness):\n",
    "\n",
    "The tail on the right side of the distribution is longer or fatter than the left side.\n",
    "Most of the data points are concentrated on the left side of the mean.\n",
    "The mean is greater than the median.\n",
    "Example: Income distributions in many countries, where a small number of people have very high incomes, creating a long right tail.\n",
    "Negative Skewness (Left Skewness):\n",
    "\n",
    "The tail on the left side of the distribution is longer or fatter than the right side.\n",
    "Most of the data points are concentrated on the right side of the mean.\n",
    "The mean is less than the median.\n",
    "Example: Age at retirement, where most people retire around a certain age, but some retire much earlier, creating a long left tail.\n",
    "Zero Skewness (Symmetrical Distribution):\n",
    "\n",
    "The distribution is perfectly symmetrical.\n",
    "The tails on both sides of the distribution are of equal length.\n",
    "The mean, median, and mode are all equal.\n",
    "Example: A perfectly symmetrical bell curve (normal distribution)."
   ]
  },
  {
   "cell_type": "raw",
   "id": "96bffd40-2a2d-4a55-bda9-779772526dc3",
   "metadata": {},
   "source": [
    "Q9. If a data is right skewed then what will be the position of median with respect to mean?\n",
    "Ans :  mean >median >mode"
   ]
  },
  {
   "cell_type": "raw",
   "id": "99b78e8c-9e95-4e93-b5ea-bd0dbb36158a",
   "metadata": {},
   "source": [
    "Q10. Explain the difference between covariance and correlation. How are these measures used in\n",
    "statistical analysis?\n",
    "Ans :\n",
    "    Covariance :\n",
    "    Definition: Covariance is a measure of the joint variability of two random variables. If the greater values of one variable correspond with the greater values of the other variable, and the lesser values correspond similarly, then the covariance is positive. If the greater values of one variable correspond with the lesser values of the other variable, then the covariance is negative.\n",
    "    Cov(x,y) = {sum total[(x - mean(x))(y - mean(y))]}/n-1\n",
    "    \n",
    "    Correlation:\n",
    "    Definition: Correlation is a standardized measure of the strength and direction of the linear relationship between two variables. Unlike   covariance, correlation is dimensionless and scaled between -1 and 1.\n",
    "    r(x,y) = Cov(x,y)/sig(x)sig(y)"
   ]
  },
  {
   "cell_type": "raw",
   "id": "b52651ca-10aa-4160-9a00-9bd3d90d33d2",
   "metadata": {},
   "source": [
    "Q11. What is the formula for calculating the sample mean? Provide an example calculation for a\n",
    "dataset.\n",
    "Ans : Sample mean is calculated by the sum total of the data divided by the number of data .\n",
    "Ex : (x1 + x2 + x3 + x4 + .........xn)/n\n"
   ]
  },
  {
   "cell_type": "code",
   "execution_count": 9,
   "id": "cbd26e9d-433a-437a-a514-51d7c679fa90",
   "metadata": {},
   "outputs": [
    {
     "name": "stdout",
     "output_type": "stream",
     "text": [
      "5.0\n"
     ]
    }
   ],
   "source": [
    "#Example of mean is \n",
    "list = [1,2,3,4,5,6,7,8,9]\n",
    "import numpy as np \n",
    "Mean = np.mean(list)\n",
    "print(Mean)\n"
   ]
  },
  {
   "cell_type": "raw",
   "id": "f1a68706-330b-415e-8302-9af121e984ff",
   "metadata": {},
   "source": [
    "Q12. For a normal distribution data what is the relationship between its measure of central tendency?\n",
    "Ans : For a normal distribution, the measures of central tendency (mean, median, and mode) are all equal. This relationship is a key characteristic of the normal distribution, which is symmetrical and bell-shaped.\n",
    "\n",
    "Relationship:\n",
    "Mean: The arithmetic average of all the data points.\n",
    "Median: The middle value that separates the higher half from the lower half of the data.\n",
    "Mode: The value that appears most frequently in the data set.\n",
    "Characteristics of Normal Distribution:\n",
    "Symmetry: The normal distribution is perfectly symmetrical around its mean. This means that the left half of the distribution is a mirror image of the right half.\n",
    "Equal Measures of Central Tendency: Because of this symmetry, the mean, median, and mode are located at the same point in the center of the distribution.\n",
    "Implications:\n",
    "Mean = Median = Mode: In a normal distribution, all three measures of central tendency are equal and located at the peak of the bell curve.\n",
    "Data Spread: The equal central tendencies imply that the data is evenly distributed around the central value, with most of the data points clustering around the mean and tapering off symmetrically on both sides.\n",
    "Example:\n",
    "Consider a normal distribution with a mean (𝜇) of 50 and a standard deviation (σ) of 10. The following properties hold:\n",
    "\n",
    "Mean = 50\n",
    "Median = 50\n",
    "Mode = 50"
   ]
  },
  {
   "cell_type": "raw",
   "id": "f719cc6e-5b48-4fe1-8c19-fb5f9b610470",
   "metadata": {},
   "source": [
    "Q13. How is covariance different from correlation?\n",
    "Ans : Covariance :\n",
    "    Definition: Covariance is a measure of the joint variability of two random variables. If the greater values of one variable correspond with the greater values of the other variable, and the lesser values correspond similarly, then the covariance is positive. If the greater values of one variable correspond with the lesser values of the other variable, then the covariance is negative.\n",
    "    Cov(x,y) = {sum total[(x - mean(x))(y - mean(y))]}/n-1\n",
    "    \n",
    "    Correlation:\n",
    "    Definition: Correlation is a standardized measure of the strength and direction of the linear relationship between two variables. Unlike   covariance, correlation is dimensionless and scaled between -1 and 1.\n",
    "    r(x,y) = Cov(x,y)/sig(x)sig(y)"
   ]
  },
  {
   "cell_type": "raw",
   "id": "7928a672-3895-4366-b728-16aa482b1828",
   "metadata": {},
   "source": [
    "Q14. How do outliers affect measures of central tendency and dispersion? Provide an example\n",
    "Ans : Outliers can significantly impact measures of central tendency (mean, median, mode) and measures of dispersion (range, variance, standard deviation). An outlier is a data point that differs significantly from other observations in the dataset. Here's how outliers affect these measures and an example:\n",
    "\n",
    "Measures of Central Tendency:\n",
    "Mean:\n",
    "\n",
    "Impact: Outliers can pull the mean towards them. A single extreme value can greatly affect the mean because it takes into account the magnitude of all values.\n",
    "Example: Consider a dataset of ages: {25,30,35,40,45,200}\n",
    "mean normally when we do not interfare the outlier 200 in it we get the answer as 35 while when we use the outlier 200 we get"
   ]
  },
  {
   "cell_type": "code",
   "execution_count": 11,
   "id": "1d801f3a-e4b0-46ab-965d-18c3919329d6",
   "metadata": {},
   "outputs": [
    {
     "name": "stdout",
     "output_type": "stream",
     "text": [
      "35.0\n",
      "62.5\n"
     ]
    }
   ],
   "source": [
    "list1 = [25,30,35,40,45]\n",
    "list2 = [25,30,35,40,45,200]\n",
    "import numpy as np\n",
    "mean1 = np.mean(list1)\n",
    "mean2 = np.mean(list2)\n",
    "print(mean1)\n",
    "print(mean2)"
   ]
  },
  {
   "cell_type": "code",
   "execution_count": null,
   "id": "9bba057e-1c65-4890-bd96-1a3b26c6ea58",
   "metadata": {},
   "outputs": [],
   "source": []
  }
 ],
 "metadata": {
  "kernelspec": {
   "display_name": "Python 3 (ipykernel)",
   "language": "python",
   "name": "python3"
  },
  "language_info": {
   "codemirror_mode": {
    "name": "ipython",
    "version": 3
   },
   "file_extension": ".py",
   "mimetype": "text/x-python",
   "name": "python",
   "nbconvert_exporter": "python",
   "pygments_lexer": "ipython3",
   "version": "3.10.8"
  }
 },
 "nbformat": 4,
 "nbformat_minor": 5
}
